{
  "cells": [
    {
      "cell_type": "markdown",
      "metadata": {
        "id": "view-in-github",
        "colab_type": "text"
      },
      "source": [
        "<a href=\"https://colab.research.google.com/github/illusionofknowledge/investing/blob/main/54_BlackLitterman.ipynb\" target=\"_parent\"><img src=\"https://colab.research.google.com/assets/colab-badge.svg\" alt=\"Open In Colab\"/></a>"
      ]
    },
    {
      "cell_type": "markdown",
      "id": "63831470",
      "metadata": {
        "id": "63831470"
      },
      "source": [
        "<div style=\"background-color:#000;\"><img src=\"https://github.com/pyquantnews/PyQuantNewsletter/blob/main/pqn.png?raw=1\"></img></div>"
      ]
    },
    {
      "cell_type": "markdown",
      "id": "535538d4",
      "metadata": {
        "id": "535538d4"
      },
      "source": [
        "This code utilizes the Black-Litterman model to incorporate subjective views into the portfolio optimization process. It fetches price data for selected assets, constructs a covariance matrix, and sets up absolute views on asset returns. The Black-Litterman model is then used to compute new expected returns, followed by the construction of an efficient frontier. This approach helps in creating a more informed and optimized portfolio by blending market equilibrium with investor views."
      ]
    },
    {
      "cell_type": "code",
      "execution_count": null,
      "id": "30dc6f4f",
      "metadata": {
        "id": "30dc6f4f"
      },
      "outputs": [],
      "source": [
        "import numpy as np"
      ]
    },
    {
      "cell_type": "code",
      "execution_count": null,
      "id": "6c1d4af5",
      "metadata": {
        "id": "6c1d4af5"
      },
      "outputs": [],
      "source": [
        "from pypfopt.black_litterman import BlackLittermanModel\n",
        "from pypfopt.efficient_frontier import EfficientFrontier\n",
        "from pypfopt import risk_models, plotting"
      ]
    },
    {
      "cell_type": "code",
      "execution_count": null,
      "id": "293a45be",
      "metadata": {
        "id": "293a45be"
      },
      "outputs": [],
      "source": [
        "from openbb_terminal.sdk import openbb\n",
        "import seaborn as sns\n",
        "sns.set_theme()"
      ]
    },
    {
      "cell_type": "markdown",
      "id": "60664575",
      "metadata": {
        "id": "60664575"
      },
      "source": [
        "Fetch price data for selected assets from the OpenBB terminal"
      ]
    },
    {
      "cell_type": "code",
      "execution_count": null,
      "id": "02c6c09c",
      "metadata": {
        "id": "02c6c09c"
      },
      "outputs": [],
      "source": [
        "prices = openbb.economy.index([\"AAPL\", \"BBY\", \"BAC\", \"SBUX\", \"T\"])"
      ]
    },
    {
      "cell_type": "markdown",
      "id": "9081783b",
      "metadata": {
        "id": "9081783b"
      },
      "source": [
        "Define absolute views on the expected returns for specific assets"
      ]
    },
    {
      "cell_type": "code",
      "execution_count": null,
      "id": "5d9cb1ca",
      "metadata": {
        "id": "5d9cb1ca"
      },
      "outputs": [],
      "source": [
        "viewdict = {\n",
        "    \"AAPL\": 0.20,\n",
        "    \"BBY\": 0.30,\n",
        "    \"BAC\": 0.10,\n",
        "    \"SBUX\": 0.2,\n",
        "    \"T\": 0.15\n",
        "}"
      ]
    },
    {
      "cell_type": "markdown",
      "id": "a3a6f94a",
      "metadata": {
        "id": "a3a6f94a"
      },
      "source": [
        "Construct the sample covariance matrix using historical price data"
      ]
    },
    {
      "cell_type": "code",
      "execution_count": null,
      "id": "2d0e2e01",
      "metadata": {
        "id": "2d0e2e01"
      },
      "outputs": [],
      "source": [
        "cov_matrix = risk_models.sample_cov(prices)"
      ]
    },
    {
      "cell_type": "markdown",
      "id": "500bebeb",
      "metadata": {
        "id": "500bebeb"
      },
      "source": [
        "Initialize the Black-Litterman model with equal weight priors and absolute views"
      ]
    },
    {
      "cell_type": "code",
      "execution_count": null,
      "id": "6db6f3b2",
      "metadata": {
        "id": "6db6f3b2"
      },
      "outputs": [],
      "source": [
        "bl = BlackLittermanModel(\n",
        "    cov_matrix,\n",
        "    absolute_views=viewdict,\n",
        "    pi=\"equal\"\n",
        ")"
      ]
    },
    {
      "cell_type": "markdown",
      "id": "b3ac9e80",
      "metadata": {
        "id": "b3ac9e80"
      },
      "source": [
        "Compute the implied expected returns using the Black-Litterman model and initialize Efficient Frontier"
      ]
    },
    {
      "cell_type": "code",
      "execution_count": null,
      "id": "024947c8",
      "metadata": {
        "id": "024947c8"
      },
      "outputs": [],
      "source": [
        "rets = bl.bl_returns()\n",
        "ef = EfficientFrontier(rets, cov_matrix)"
      ]
    },
    {
      "cell_type": "markdown",
      "id": "644d3dec",
      "metadata": {
        "id": "644d3dec"
      },
      "source": [
        "Plot the efficient frontier showing the possible portfolios"
      ]
    },
    {
      "cell_type": "code",
      "execution_count": null,
      "id": "86ea1335",
      "metadata": {
        "id": "86ea1335"
      },
      "outputs": [],
      "source": [
        "plotting.plot_efficient_frontier(ef, show_tickers=True)"
      ]
    },
    {
      "cell_type": "markdown",
      "id": "aba68864",
      "metadata": {
        "id": "aba68864"
      },
      "source": [
        "Calculate and display the optimal weights for the portfolio"
      ]
    },
    {
      "cell_type": "code",
      "execution_count": null,
      "id": "ef1c2d68",
      "metadata": {
        "id": "ef1c2d68"
      },
      "outputs": [],
      "source": [
        "bl.bl_weights()"
      ]
    },
    {
      "cell_type": "markdown",
      "id": "8bbae896",
      "metadata": {
        "id": "8bbae896"
      },
      "source": [
        "<a href=\"https://pyquantnews.com/\">PyQuant News</a> is where finance practitioners level up with Python for quant finance, algorithmic trading, and market data analysis. Looking to get started? Check out the fastest growing, top-selling course to <a href=\"https://gettingstartedwithpythonforquantfinance.com/\">get started with Python for quant finance</a>. For educational purposes. Not investment advise. Use at your own risk."
      ]
    }
  ],
  "metadata": {
    "jupytext": {
      "cell_metadata_filter": "-all",
      "main_language": "python",
      "notebook_metadata_filter": "-all"
    },
    "colab": {
      "provenance": [],
      "include_colab_link": true
    },
    "language_info": {
      "name": "python"
    },
    "kernelspec": {
      "name": "python3",
      "display_name": "Python 3"
    }
  },
  "nbformat": 4,
  "nbformat_minor": 5
}